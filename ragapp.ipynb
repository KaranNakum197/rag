!pip install langchain langchain-community openai faiss-cpu tiktoken unstructured

import os
from getpass import getpass

os.environ["OPENAI_API_KEY"] = getpass("Enter your OpenAI API Key:")
