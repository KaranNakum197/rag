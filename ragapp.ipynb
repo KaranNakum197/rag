!pip install langchain langchain-community openai faiss-cpu tiktoken unstructured

import os
from getpass import getpass

os.environ["OPENAI_API_KEY"] = getpass("Enter your OpenAI API Key:")

from langchain_community.document_loaders import PyPDFLoader
from langchain.text_splitter import CharacterTextSplitter

# Load your file using PyPDFLoader
# Replace with your document path
loader = PyPDFLoader("/content/drive/MyDrive/ArtificialIntelligenceFundamentals_Badge20241223-27-kbr6gu.pdf")
documents = loader.load()

# Split into chunks
text_splitter = CharacterTextSplitter(chunk_size=1000, chunk_overlap=100)
docs = text_splitter.split_documents(documents)
